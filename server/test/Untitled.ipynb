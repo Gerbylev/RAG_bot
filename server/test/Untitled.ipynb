{
 "cells": [
  {
   "cell_type": "code",
   "execution_count": 4,
   "id": "0287a003-a7b9-4669-8041-d34225bcdf2d",
   "metadata": {},
   "outputs": [],
   "source": [
    "import psycopg2\n",
    "import numpy as np\n",
    "from sentence_transformers import SentenceTransformer\n",
    "# from .autonotebook import tqdm as notebook_tqdm\n"
   ]
  },
  {
   "cell_type": "code",
   "execution_count": 5,
   "id": "d5c01681-5772-4c61-ade0-f4a9394c887f",
   "metadata": {},
   "outputs": [
    {
     "data": {
      "text/plain": [
       "SentenceTransformer(\n",
       "  (0): Transformer({'max_seq_length': 512, 'do_lower_case': False}) with Transformer model: XLMRobertaModel \n",
       "  (1): Pooling({'word_embedding_dimension': 1024, 'pooling_mode_cls_token': False, 'pooling_mode_mean_tokens': True, 'pooling_mode_max_tokens': False, 'pooling_mode_mean_sqrt_len_tokens': False, 'pooling_mode_weightedmean_tokens': False, 'pooling_mode_lasttoken': False, 'include_prompt': True})\n",
       "  (2): Normalize()\n",
       ")"
      ]
     },
     "execution_count": 5,
     "metadata": {},
     "output_type": "execute_result"
    }
   ],
   "source": [
    "SentenceTransformer(\"intfloat/multilingual-e5-large\")\n"
   ]
  },
  {
   "cell_type": "code",
   "execution_count": 6,
   "id": "c4e15ee7-8363-4b49-93b5-23b03f76646b",
   "metadata": {},
   "outputs": [],
   "source": [
    "model = SentenceTransformer(\"intfloat/multilingual-e5-large\")"
   ]
  },
  {
   "cell_type": "code",
   "execution_count": 22,
   "id": "5c24c845-86af-4a4b-a579-fffd4306e025",
   "metadata": {},
   "outputs": [],
   "source": [
    "def get_embedding(text: str) -> list:\n",
    "    \"\"\"Получить векторное представление текста\"\"\"\n",
    "    # Префикс для E5-модели\n",
    "    formatted_text = f\"query: {text}\"  # Используем `query:` для текстов запроса\n",
    "    embedding = model.encode(formatted_text, normalize_embeddings=True)\n",
    "    return embedding.tolist()\n",
    "\n",
    "def add_text_to_db(conn, text: str):\n",
    "    \"\"\"Добавить текст и его векторное представление в базу данных\"\"\"\n",
    "    embedding = get_embedding(text)\n",
    "    with conn.cursor() as cur:\n",
    "        cur.execute(\n",
    "            \"INSERT INTO texts (text, embedding) VALUES (%s, %s)\",\n",
    "            (text, embedding)\n",
    "        )\n",
    "    conn.commit()\n",
    "\n",
    "def search_similar_texts(conn, query: str, top_k: int = 5):\n",
    "    \"\"\"Искать похожие тексты\"\"\"\n",
    "    query_embedding = get_embedding(query)\n",
    "    query_embedding_str = \",\".join(map(str, query_embedding))\n",
    "\n",
    "    with conn.cursor() as cur:\n",
    "        cur.execute(\n",
    "            f\"\"\"\n",
    "            SELECT text, 1 - (embedding <=> '[{query_embedding_str}]'::vector) AS similarity\n",
    "            FROM texts\n",
    "            ORDER BY similarity DESC\n",
    "            LIMIT %s\n",
    "            \"\"\",\n",
    "            (top_k,)\n",
    "        )\n",
    "        results = cur.fetchall()\n",
    "\n",
    "    return results\n",
    "\n",
    "def search_with_bm25(conn, query: str, top_k: int = 5):\n",
    "    \"\"\"Поиск по BM25\"\"\"\n",
    "    ts_query = \" & \".join(query.split())  # Преобразовать текст запроса в формат to_tsquery\n",
    "    with conn.cursor() as cur:\n",
    "        cur.execute(\n",
    "            \"\"\"\n",
    "            SELECT text, ts_rank(tsv, to_tsquery('english', %s)) AS rank\n",
    "            FROM texts\n",
    "            WHERE tsv @@ to_tsquery('english', %s)\n",
    "            ORDER BY rank DESC\n",
    "            LIMIT %s;\n",
    "            \"\"\",\n",
    "            (ts_query, ts_query, top_k)\n",
    "        )\n",
    "        results = cur.fetchall()\n",
    "\n",
    "    return results\n",
    "\n",
    "def add_text_to_db_with_bm25(conn, text: str):\n",
    "    \"\"\"Добавить текст и его полнотекстовое представление для BM25\"\"\"\n",
    "    embedding = get_embedding(text)\n",
    "    with conn.cursor() as cur:\n",
    "        cur.execute(\n",
    "            \"\"\"\n",
    "            INSERT INTO texts (text, embedding, tsv)\n",
    "            VALUES (%s, %s, to_tsvector('english', %s));\n",
    "            \"\"\",\n",
    "            (text, embedding, text)\n",
    "        )\n",
    "    conn.commit()\n"
   ]
  },
  {
   "cell_type": "code",
   "execution_count": 9,
   "id": "9492962e-198a-411b-aff0-d1228874fa3e",
   "metadata": {},
   "outputs": [],
   "source": [
    "DB_PARAMS = {\n",
    "    \"dbname\": \"vector_db\",\n",
    "    \"user\": \"postgres\",\n",
    "    \"password\": \"postgres\",\n",
    "    \"host\": \"localhost\",\n",
    "    \"port\": \"5436\"\n",
    "}"
   ]
  },
  {
   "cell_type": "code",
   "execution_count": 31,
   "id": "f00e4697-cafd-460a-91e6-e81da8b73395",
   "metadata": {},
   "outputs": [
    {
     "name": "stdout",
     "output_type": "stream",
     "text": [
      "Searching for texts using BM25 for: Татарникова\n",
      "1. Татарникова деректер 4 института, она отвечает почти за все вопросы в универе (score: 0.0608)\n"
     ]
    }
   ],
   "source": [
    "conn = psycopg2.connect(**DB_PARAMS)\n",
    "\n",
    "# # Добавление текста\n",
    "# text = \"This is a multilingual test example.\"\n",
    "# print(f\"Adding text: {text}\")\n",
    "# add_text_to_db_with_bm25(conn, text)\n",
    "\n",
    "# Поиск по BM25\n",
    "query = \"Татарникова\"\n",
    "print(f\"Searching for texts using BM25 for: {query}\")\n",
    "results = search_with_bm25(conn, query)\n",
    "for rank, (text, score) in enumerate(results, start=1):\n",
    "    print(f\"{rank}. {text} (score: {score:.4f})\")\n",
    "\n",
    "conn.close()\n"
   ]
  },
  {
   "cell_type": "code",
   "execution_count": null,
   "id": "f4edd473-6e6d-4108-a1a2-53a0a5dccd9f",
   "metadata": {},
   "outputs": [],
   "source": []
  }
 ],
 "metadata": {
  "kernelspec": {
   "display_name": "Python 3 (ipykernel)",
   "language": "python",
   "name": "python3"
  },
  "language_info": {
   "codemirror_mode": {
    "name": "ipython",
    "version": 3
   },
   "file_extension": ".py",
   "mimetype": "text/x-python",
   "name": "python",
   "nbconvert_exporter": "python",
   "pygments_lexer": "ipython3",
   "version": "3.12.3"
  }
 },
 "nbformat": 4,
 "nbformat_minor": 5
}
